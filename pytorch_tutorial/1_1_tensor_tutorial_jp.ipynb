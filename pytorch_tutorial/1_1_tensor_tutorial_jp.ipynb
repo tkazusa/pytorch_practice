{
 "cells": [
  {
   "cell_type": "markdown",
   "metadata": {
    "id": "2UbJrC7Fq43T"
   },
   "source": [
    "「PyTorchとは？」\n",
    "===============================================================\n",
    "【原題】What is PyTorch?\n",
    "\n",
    "【原著】[Soumith Chintala](http://soumith.ch/)\n",
    "\n",
    "【元URL】https://pytorch.org/tutorials/beginner/blitz/tensor_tutorial.html\n",
    "\n",
    "【翻訳】電通国際情報サービスISID AIトランスフォーメーションセンター　徳原 光\n",
    "\n",
    "【日付】2020年10月13日\n",
    "\n",
    "【チュトーリアル概要】\n",
    "\n",
    "本チュートリアルでは、PyTorchでの演算処理に用いるTorch Tensorについて、その操作方法を解説します。\n",
    "\n",
    "---\n"
   ]
  },
  {
   "cell_type": "markdown",
   "metadata": {
    "id": "zl9avtaZAMR-"
   },
   "source": [
    "\n",
    "PyTorchとは？\n",
    "================\n",
    "\n",
    "PyTorchはPythonをベースとした科学計算ライブラリです。\n",
    "\n",
    "PyTorchは以下に示す2つの機能を使用したいユーザーを対象としています。\n",
    "\n",
    "- Numpyベースの演算の代わりに、GPUを用いた高速な演算の実施\n",
    "- 高い柔軟性と実行速度を有したディープラーニングのプラットフォーム\n"
   ]
  },
  {
   "cell_type": "markdown",
   "metadata": {
    "id": "pU-27_tSYy0b"
   },
   "source": [
    "\n",
    "\n",
    "Tensors（テンソル）\n",
    "-------------\n",
    "\n",
    "TensorはNumPy ndarraysのような多次元配列です。\n",
    "\n",
    "PyTorchにおいてテンソルはGPU上でも使用できるため、処理速度の向上させることも可能です。"
   ]
  },
  {
   "cell_type": "code",
   "execution_count": 1,
   "metadata": {
    "id": "BPEmNafrDUT3"
   },
   "outputs": [],
   "source": [
    "%matplotlib inline"
   ]
  },
  {
   "cell_type": "code",
   "execution_count": 2,
   "metadata": {
    "id": "x9tnynuYAMR_"
   },
   "outputs": [],
   "source": [
    "from __future__ import print_function\n",
    "import torch"
   ]
  },
  {
   "cell_type": "markdown",
   "metadata": {
    "id": "AAtJYu0nAMSF"
   },
   "source": [
    "【注意】\n",
    "\n",
    "初期化されていない行列が宣言・作成されても、実際に使用されるまで明確な値は保有していません。\n",
    "\n",
    "宣言時にメモリ上の割り当てられた適当な値が初期値として入っています。\n",
    "\n",
    "\n"
   ]
  },
  {
   "cell_type": "markdown",
   "metadata": {
    "id": "VZy0JcQ6AMSG"
   },
   "source": [
    "初期化されていない、3×5行列を生成してみましょう：\n",
    "\n"
   ]
  },
  {
   "cell_type": "code",
   "execution_count": 3,
   "metadata": {
    "colab": {
     "base_uri": "https://localhost:8080/"
    },
    "id": "z4d_varHAMSH",
    "outputId": "764eba43-c636-437d-bb94-57737da2929f"
   },
   "outputs": [
    {
     "name": "stdout",
     "output_type": "stream",
     "text": [
      "tensor([[7.0309e+28, 7.7783e+31, 7.2251e+28],\n",
      "        [1.7732e+28, 7.0367e+22, 5.0023e-40],\n",
      "        [7.2130e-22, 1.7589e+22, 3.2180e+21],\n",
      "        [5.2170e-11, 2.9393e+29, 7.1450e+31],\n",
      "        [5.4214e-11, 4.7630e+30, 2.3121e-42]])\n"
     ]
    }
   ],
   "source": [
    "x = torch.empty(5, 3)\n",
    "print(x)"
   ]
  },
  {
   "cell_type": "markdown",
   "metadata": {
    "id": "rW-q-OY_AMSJ"
   },
   "source": [
    "次に、乱数によって初期化された3x5行列を生成してみましょう:\n",
    "\n"
   ]
  },
  {
   "cell_type": "code",
   "execution_count": 4,
   "metadata": {
    "colab": {
     "base_uri": "https://localhost:8080/"
    },
    "id": "Fk6NU9oIAMSK",
    "outputId": "8f0b050b-3f51-4a0d-9625-1c8f229dfb2f"
   },
   "outputs": [
    {
     "name": "stdout",
     "output_type": "stream",
     "text": [
      "tensor([[0.0817, 0.4282, 0.4868],\n",
      "        [0.9753, 0.2037, 0.1822],\n",
      "        [0.0417, 0.5967, 0.5851],\n",
      "        [0.4023, 0.1575, 0.0059],\n",
      "        [0.0767, 0.5165, 0.0945]])\n"
     ]
    }
   ],
   "source": [
    "x = torch.rand(5, 3)\n",
    "print(x)"
   ]
  },
  {
   "cell_type": "markdown",
   "metadata": {
    "id": "3BEWXROCAMSM"
   },
   "source": [
    "long型の数値0で初期化された行列を生成する場合は次の通りです。\n",
    "\n"
   ]
  },
  {
   "cell_type": "code",
   "execution_count": 5,
   "metadata": {
    "colab": {
     "base_uri": "https://localhost:8080/"
    },
    "id": "jAUBy1bDAMSN",
    "outputId": "ed1e5021-2b50-4f37-fd03-0e8340022959"
   },
   "outputs": [
    {
     "name": "stdout",
     "output_type": "stream",
     "text": [
      "tensor([[0, 0, 0],\n",
      "        [0, 0, 0],\n",
      "        [0, 0, 0],\n",
      "        [0, 0, 0],\n",
      "        [0, 0, 0]])\n"
     ]
    }
   ],
   "source": [
    "x = torch.zeros(5, 3, dtype=torch.long)\n",
    "print(x)"
   ]
  },
  {
   "cell_type": "markdown",
   "metadata": {
    "id": "eNMp7LS4AMSR"
   },
   "source": [
    "直接、数値を指定して行列を生成することもできます。\n",
    "\n"
   ]
  },
  {
   "cell_type": "code",
   "execution_count": 6,
   "metadata": {
    "colab": {
     "base_uri": "https://localhost:8080/"
    },
    "id": "WuSmaoLnAMSR",
    "outputId": "31d0e75b-c4be-45e2-92bf-5ac8e29d5cb1"
   },
   "outputs": [
    {
     "name": "stdout",
     "output_type": "stream",
     "text": [
      "tensor([5.5000, 3.0000])\n"
     ]
    }
   ],
   "source": [
    "x = torch.tensor([5.5, 3])\n",
    "print(x)"
   ]
  },
  {
   "cell_type": "markdown",
   "metadata": {
    "id": "KgBDdfF6AMSU"
   },
   "source": [
    "その他に、すでにあるtensorをもとに、新しくtensorを生成することもできます。\n",
    "\n",
    "本メソッドで生成したテンソルは、テンソルの特性（例えばデータ型：dtypeなど）を、もとのtensorから引き継ぎます（ユーザーが値や特性を直接上書きしない限り）。"
   ]
  },
  {
   "cell_type": "code",
   "execution_count": 7,
   "metadata": {
    "colab": {
     "base_uri": "https://localhost:8080/"
    },
    "id": "3P_cXyNZAMSU",
    "outputId": "e1626db3-ee62-4eeb-cdd3-1f0316375b5a"
   },
   "outputs": [
    {
     "name": "stdout",
     "output_type": "stream",
     "text": [
      "tensor([[1., 1., 1.],\n",
      "        [1., 1., 1.],\n",
      "        [1., 1., 1.],\n",
      "        [1., 1., 1.],\n",
      "        [1., 1., 1.]], dtype=torch.float64)\n",
      "tensor([[-0.3661,  0.7688,  0.8728],\n",
      "        [ 0.8427, -1.0828, -0.9920],\n",
      "        [-0.0618,  1.1174, -0.3924],\n",
      "        [-1.7812,  1.5442,  2.1729],\n",
      "        [-0.3608, -1.2833, -1.1088]])\n"
     ]
    }
   ],
   "source": [
    "x = x.new_ones(5, 3, dtype=torch.double)      # new_* methods take in sizes\n",
    "print(x)\n",
    "\n",
    "x = torch.randn_like(x, dtype=torch.float)    # override dtype!\n",
    "print(x)                                      # result has the same size"
   ]
  },
  {
   "cell_type": "markdown",
   "metadata": {
    "id": "cLygdY1nAMSX"
   },
   "source": [
    "テンソルサイズ（size）≒テンソルの形、を求めてみます。\n",
    "\n"
   ]
  },
  {
   "cell_type": "code",
   "execution_count": 8,
   "metadata": {
    "colab": {
     "base_uri": "https://localhost:8080/"
    },
    "id": "CEwFrYkgAMSX",
    "outputId": "b1989e3a-34dd-47ca-dfc3-a2e313a71e42"
   },
   "outputs": [
    {
     "name": "stdout",
     "output_type": "stream",
     "text": [
      "torch.Size([5, 3])\n"
     ]
    }
   ],
   "source": [
    "print(x.size())"
   ]
  },
  {
   "cell_type": "markdown",
   "metadata": {
    "id": "SOB44xlLWtKQ"
   },
   "source": [
    "【メモ】\n",
    "\n",
    "``torch.Size``はタプルとなっているため、Pythonの通常のタプルと同様の操作が可能です。"
   ]
  },
  {
   "cell_type": "markdown",
   "metadata": {
    "id": "2029dArbAMSZ"
   },
   "source": [
    "**テンソルの操作（変形・変換等）**\n",
    "\n",
    "\n",
    "PyTorchにはテンソルに対する操作（変形・変換等）が多く用意されています。\n",
    "\n",
    "ここで、tensorを操作（変形・変換等）する追加の例を紹介します。\n",
    "\n"
   ]
  },
  {
   "cell_type": "markdown",
   "metadata": {
    "id": "8I41xxUFXmtP"
   },
   "source": [
    "補足: 用例1"
   ]
  },
  {
   "cell_type": "code",
   "execution_count": 9,
   "metadata": {
    "colab": {
     "base_uri": "https://localhost:8080/"
    },
    "id": "g4OnVKj5AMSa",
    "outputId": "5ecf6870-8e3b-4ff5-d663-96444bc03d55"
   },
   "outputs": [
    {
     "name": "stdout",
     "output_type": "stream",
     "text": [
      "tensor([[ 0.5575,  1.6856,  0.9338],\n",
      "        [ 1.4674, -0.7699, -0.0406],\n",
      "        [ 0.6594,  1.1825,  0.1709],\n",
      "        [-1.1843,  2.1258,  2.2895],\n",
      "        [ 0.1834, -0.9842, -0.9685]])\n"
     ]
    }
   ],
   "source": [
    "y = torch.rand(5, 3)\n",
    "print(x + y)"
   ]
  },
  {
   "cell_type": "markdown",
   "metadata": {
    "id": "dznbfngYAMSc"
   },
   "source": [
    "補足: 用例2\n",
    "\n"
   ]
  },
  {
   "cell_type": "code",
   "execution_count": 10,
   "metadata": {
    "colab": {
     "base_uri": "https://localhost:8080/"
    },
    "id": "s_YL8Q8nAMSd",
    "outputId": "518ab380-14be-49d5-b16c-dbc55f5ee721"
   },
   "outputs": [
    {
     "name": "stdout",
     "output_type": "stream",
     "text": [
      "tensor([[ 0.5575,  1.6856,  0.9338],\n",
      "        [ 1.4674, -0.7699, -0.0406],\n",
      "        [ 0.6594,  1.1825,  0.1709],\n",
      "        [-1.1843,  2.1258,  2.2895],\n",
      "        [ 0.1834, -0.9842, -0.9685]])\n"
     ]
    }
   ],
   "source": [
    "print(torch.add(x, y))"
   ]
  },
  {
   "cell_type": "markdown",
   "metadata": {
    "id": "UEjgcYv_AMSe"
   },
   "source": [
    "補足: 出力先を引数で指定 \n",
    "\n"
   ]
  },
  {
   "cell_type": "code",
   "execution_count": 11,
   "metadata": {
    "colab": {
     "base_uri": "https://localhost:8080/"
    },
    "id": "PQCoVYYEAMSf",
    "outputId": "f144cd2f-4834-4f72-8fca-e1df025f2303"
   },
   "outputs": [
    {
     "name": "stdout",
     "output_type": "stream",
     "text": [
      "tensor([[ 0.5575,  1.6856,  0.9338],\n",
      "        [ 1.4674, -0.7699, -0.0406],\n",
      "        [ 0.6594,  1.1825,  0.1709],\n",
      "        [-1.1843,  2.1258,  2.2895],\n",
      "        [ 0.1834, -0.9842, -0.9685]])\n"
     ]
    }
   ],
   "source": [
    "result = torch.empty(5, 3)\n",
    "torch.add(x, y, out=result)\n",
    "print(result)"
   ]
  },
  {
   "cell_type": "markdown",
   "metadata": {
    "id": "fIE94xsPAMSj"
   },
   "source": [
    "補足：テンソルそのものの変更（in-place：インプレース処理）\n",
    "\n"
   ]
  },
  {
   "cell_type": "code",
   "execution_count": 12,
   "metadata": {
    "colab": {
     "base_uri": "https://localhost:8080/"
    },
    "id": "ZF6MQ32FAMSk",
    "outputId": "35331a19-ff9c-442b-d85b-887bfd500c2b"
   },
   "outputs": [
    {
     "name": "stdout",
     "output_type": "stream",
     "text": [
      "tensor([[ 0.5575,  1.6856,  0.9338],\n",
      "        [ 1.4674, -0.7699, -0.0406],\n",
      "        [ 0.6594,  1.1825,  0.1709],\n",
      "        [-1.1843,  2.1258,  2.2895],\n",
      "        [ 0.1834, -0.9842, -0.9685]])\n"
     ]
    }
   ],
   "source": [
    "# adds x to y\n",
    "y.add_(x)\n",
    "print(y)"
   ]
  },
  {
   "cell_type": "markdown",
   "metadata": {
    "id": "ltaptXLKAMSm"
   },
   "source": [
    "【メモ】\n",
    "\n",
    "メソッド名の後に``_``をつけることで、変数の内容を出力結果で置き換えることができます。\n",
    "\n",
    "例えば、``y.add_(x)``の場合xとyの値を加算した結果はyに上書きして、格納されます。"
   ]
  },
  {
   "cell_type": "markdown",
   "metadata": {
    "id": "9ylKCEeObFO8"
   },
   "source": [
    "NumPyと同様、インデクシングやスライシングを行うことも可能です。"
   ]
  },
  {
   "cell_type": "code",
   "execution_count": 13,
   "metadata": {
    "colab": {
     "base_uri": "https://localhost:8080/"
    },
    "id": "fSE80t58AMSm",
    "outputId": "58058b0d-5cb8-4986-fbd0-4b4cf87ce49c"
   },
   "outputs": [
    {
     "name": "stdout",
     "output_type": "stream",
     "text": [
      "tensor([ 0.7688, -1.0828,  1.1174,  1.5442, -1.2833])\n"
     ]
    }
   ],
   "source": [
    "print(x[:, 1])"
   ]
  },
  {
   "cell_type": "markdown",
   "metadata": {
    "id": "mp9zaxscAMSo"
   },
   "source": [
    "リサイズ: tensorの形を変えたい場合は ``torch.view``を使用してください:\n",
    "\n"
   ]
  },
  {
   "cell_type": "code",
   "execution_count": 14,
   "metadata": {
    "colab": {
     "base_uri": "https://localhost:8080/"
    },
    "id": "D0bTxzDvAMSo",
    "outputId": "13f43c59-644c-495c-a0cd-c6725e84506f"
   },
   "outputs": [
    {
     "name": "stdout",
     "output_type": "stream",
     "text": [
      "torch.Size([4, 4]) torch.Size([16]) torch.Size([2, 8])\n"
     ]
    }
   ],
   "source": [
    "x = torch.randn(4, 4)\n",
    "y = x.view(16)\n",
    "z = x.view(-1, 8)  #  -1を指定すると他に設定した次元の値から自動で計算\n",
    "print(x.size(), y.size(), z.size())"
   ]
  },
  {
   "cell_type": "markdown",
   "metadata": {
    "id": "0IqvUIL6AMSq"
   },
   "source": [
    "``.item()``を使用すると、要素を1つしか持たないtensorから、中身の数値だけを取り出すことができます。\n"
   ]
  },
  {
   "cell_type": "code",
   "execution_count": 15,
   "metadata": {
    "colab": {
     "base_uri": "https://localhost:8080/"
    },
    "id": "PB3tzjNzAMSr",
    "outputId": "b33bda90-5c39-4467-e5c8-599b6516f584"
   },
   "outputs": [
    {
     "name": "stdout",
     "output_type": "stream",
     "text": [
      "tensor([0.7074])\n",
      "0.7074472308158875\n"
     ]
    }
   ],
   "source": [
    "x = torch.randn(1)\n",
    "print(x)\n",
    "print(x.item())"
   ]
  },
  {
   "cell_type": "markdown",
   "metadata": {
    "id": "tyOawt7EdfJx"
   },
   "source": [
    "**参考:**\n",
    "\n",
    "PyTorchでは、転置、インデックシング、スライシング、演算処理、線形代数、乱数生成などの100を超える機能が提供されています。\n",
    "\n",
    "詳しくは[こちらのページ](https://pytorch.org/docs/stable/torch.html)をご覧ください。"
   ]
  },
  {
   "cell_type": "markdown",
   "metadata": {
    "id": "CEj9q_ktAMSt"
   },
   "source": [
    "NumPyとの接続\n",
    "------------\n",
    "\n",
    "PyTorchではTorch TensorからNumPy Arrayへの変換やその逆を簡単に行うことできます。\n",
    "\n",
    "（Torch TensorがCPU上にある場合）Torch TensorとNumPy Arrayはメモリ上の同じ領域に配置され、変換することができます。\n",
    "\n"
   ]
  },
  {
   "cell_type": "markdown",
   "metadata": {
    "id": "BloXeu20gJS6"
   },
   "source": [
    "Torch Tensorから NumPy Arrayへの変換\n",
    "--------\n",
    "\n",
    "\n"
   ]
  },
  {
   "cell_type": "code",
   "execution_count": 16,
   "metadata": {
    "colab": {
     "base_uri": "https://localhost:8080/"
    },
    "id": "ISvp-esTAMSt",
    "outputId": "8c6b89f8-cb2b-484a-895b-a483d504394f"
   },
   "outputs": [
    {
     "name": "stdout",
     "output_type": "stream",
     "text": [
      "tensor([1., 1., 1., 1., 1.])\n"
     ]
    }
   ],
   "source": [
    "a = torch.ones(5)\n",
    "print(a)"
   ]
  },
  {
   "cell_type": "code",
   "execution_count": 17,
   "metadata": {
    "colab": {
     "base_uri": "https://localhost:8080/"
    },
    "id": "mLkdbh4kAMSw",
    "outputId": "a439d127-df54-434d-a0d4-eef8ac03d549"
   },
   "outputs": [
    {
     "name": "stdout",
     "output_type": "stream",
     "text": [
      "[1. 1. 1. 1. 1.]\n"
     ]
    }
   ],
   "source": [
    "b = a.numpy()\n",
    "print(b)"
   ]
  },
  {
   "cell_type": "markdown",
   "metadata": {
    "id": "HAlxNlTbAMSz"
   },
   "source": [
    "メモリを共有しているため、Torch Tensorの値がNumPy Arrayにも反映されることが分かります。\n",
    "\n"
   ]
  },
  {
   "cell_type": "code",
   "execution_count": 18,
   "metadata": {
    "colab": {
     "base_uri": "https://localhost:8080/"
    },
    "id": "PkcVVOa8AMSz",
    "outputId": "5ef5674d-e9b7-4d2f-ac34-2ca1b603212a"
   },
   "outputs": [
    {
     "name": "stdout",
     "output_type": "stream",
     "text": [
      "tensor([2., 2., 2., 2., 2.])\n",
      "[2. 2. 2. 2. 2.]\n"
     ]
    }
   ],
   "source": [
    "a.add_(1)\n",
    "print(a)\n",
    "print(b)"
   ]
  },
  {
   "cell_type": "markdown",
   "metadata": {
    "id": "ySjxVQRgAMS1"
   },
   "source": [
    "NumPy ArrayからTorch Tensorへの変換\n",
    "---------\n",
    "\n",
    "NumPy ArrayからTorch Tensorへの変換も、容易に可能です。\n",
    "\n"
   ]
  },
  {
   "cell_type": "code",
   "execution_count": 19,
   "metadata": {
    "colab": {
     "base_uri": "https://localhost:8080/"
    },
    "id": "26bv0CakAMS2",
    "outputId": "946fb784-afbd-4143-c1ba-dc5857bb85aa"
   },
   "outputs": [
    {
     "name": "stdout",
     "output_type": "stream",
     "text": [
      "[2. 2. 2. 2. 2.]\n",
      "tensor([2., 2., 2., 2., 2.], dtype=torch.float64)\n"
     ]
    }
   ],
   "source": [
    "import numpy as np\n",
    "a = np.ones(5)\n",
    "b = torch.from_numpy(a)\n",
    "np.add(a, 1, out=a)\n",
    "print(a)\n",
    "print(b)"
   ]
  },
  {
   "cell_type": "markdown",
   "metadata": {
    "id": "u1HZ1yg4AMS4"
   },
   "source": [
    "CharTensorを除き、CPU上のすべてのTensorはNumPyへの変換、およびその逆（NumpyからTensor）に対応しています。\n"
   ]
  },
  {
   "cell_type": "markdown",
   "metadata": {
    "id": "ekIwcDFzY8i1"
   },
   "source": [
    "CUDA Tensors（CUDA テンソル）\n",
    "------------\n",
    "\n",
    "tensorは ``.to`` メソッドを使用することであらゆるデバイス上のメモリへと移動させることができます。"
   ]
  },
  {
   "cell_type": "code",
   "execution_count": 20,
   "metadata": {
    "colab": {
     "base_uri": "https://localhost:8080/"
    },
    "id": "2STSTspeAMS4",
    "outputId": "b5b92cfb-f72f-486e-9010-5cda9fd26a9a"
   },
   "outputs": [
    {
     "name": "stdout",
     "output_type": "stream",
     "text": [
      "tensor([1.7074], device='cuda:0')\n",
      "tensor([1.7074], dtype=torch.float64)\n"
     ]
    }
   ],
   "source": [
    "# let us run this cell only if CUDA is available\n",
    "# We will use ``torch.device`` objects to move tensors in and out of GPU\n",
    "if torch.cuda.is_available():\n",
    "    device = torch.device(\"cuda\")          # a CUDA device object\n",
    "    y = torch.ones_like(x, device=device)  # directly create a tensor on GPU\n",
    "    x = x.to(device)                       # or just use strings ``.to(\"cuda\")``\n",
    "    z = x + y\n",
    "    print(z)\n",
    "    print(z.to(\"cpu\", torch.double))       # ``.to`` can also change dtype together!\n",
    "\n",
    "\n",
    "# 日本語訳注：\n",
    "# tensor([1.8299], device='cuda:0')\n",
    "# tensor([1.8299], dtype=torch.float64)\n",
    "# のような出力（値は変わります）がセルのあとに表示されれば、GPUでのCUDAでのテンソル計算が成功しています。\n",
    "# もし、何も表示されなければ、Google ColaroboratoryがGPU使用モードになっていないので、\n",
    "# 下のセルの説明を読んで、GPUを使用可能な状態にしてみてください。"
   ]
  },
  {
   "cell_type": "markdown",
   "metadata": {
    "id": "wnzN5tsWMCZa"
   },
   "source": [
    "（日本語訳注）\n",
    "\n",
    "Google ColaboratoryでCUDA、すなわちGPUを使用可能にするには、上部メニューの「ランタイム」を選択し、「ランタイムのタイプを変更」で、「ハードウェア アクセラレータ」にGPUを選択します。\n",
    "\n",
    "\n",
    "上記で、現在のランタイムの環境を確認し、GPUでなければ、GPUに設定して、上記セルを実行してみてください。"
   ]
  }
 ],
 "metadata": {
  "accelerator": "GPU",
  "colab": {
   "collapsed_sections": [],
   "name": "1_1_tensor_tutorial_jp.ipynb",
   "provenance": [],
   "toc_visible": true
  },
  "kernelspec": {
   "display_name": "Python 3 (ipykernel)",
   "language": "python",
   "name": "python3"
  },
  "language_info": {
   "codemirror_mode": {
    "name": "ipython",
    "version": 3
   },
   "file_extension": ".py",
   "mimetype": "text/x-python",
   "name": "python",
   "nbconvert_exporter": "python",
   "pygments_lexer": "ipython3",
   "version": "3.8.12"
  }
 },
 "nbformat": 4,
 "nbformat_minor": 4
}
